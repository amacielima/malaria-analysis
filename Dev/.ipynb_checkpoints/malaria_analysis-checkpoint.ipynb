{
 "cells": [
  {
   "cell_type": "code",
   "execution_count": 2,
   "metadata": {},
   "outputs": [],
   "source": [
    "import pandas as pd\n",
    "import matplotlib.pyplot as plt\n",
    "import numpy as np"
   ]
  },
  {
   "cell_type": "code",
   "execution_count": 47,
   "metadata": {},
   "outputs": [
    {
     "data": {
      "image/png": "[encoded data removed]",
      "text/plain": [
       "<Figure size 432x288 with 1 Axes>"
      ]
     },
     "metadata": {
      "needs_background": "light"
     },
     "output_type": "display_data"
    },
    {
     "name": "stdout",
     "output_type": "stream",
     "text": [
      "    year  occurrences\n",
      "11  2000           64\n",
      "14  2001           53\n",
      "12  2002           59\n",
      "13  2003           57\n",
      "10  2004           81\n",
      "0   2005          386\n",
      "5   2006          150\n",
      "2   2007          196\n",
      "4   2008          153\n",
      "9   2009           87\n",
      "6   2010          122\n",
      "3   2011          171\n",
      "1   2012          232\n",
      "8   2013          102\n",
      "7   2014          115\n"
     ]
    },
    {
     "data": {
      "image/png": "[encoded data removed]",
      "text/plain": [
       "<Figure size 432x288 with 1 Axes>"
      ]
     },
     "metadata": {
      "needs_background": "light"
     },
     "output_type": "display_data"
    }
   ],
   "source": [
    "original_dataset = pd.read_csv('C:\\\\Users\\\\amaci\\\\Desktop\\\\FEI\\Mestrado\\\\PME406\\\\Trabalho Final\\Datasets\\\\malaria-mosquito\\\\Africa_Vectors_database_1898-2016.csv', encoding='latin1', sep=',')\n",
    "\n",
    "derivate_dataset = original_dataset.loc[original_dataset['YeStart'] == original_dataset['YeEnd']]\n",
    "\n",
    "hist_dataset = derivate_dataset['YeStart']\n",
    "hist_dataset.reset_index(drop=True)\n",
    "\n",
    "#hist = np.histogram(hist_dataset)\n",
    "#hist_dataset.hist(hist_dataset)\n",
    "plt.hist(hist_dataset, bins=np.arange(hist_dataset.min(), hist_dataset.max()+1), align='left')\n",
    "plt.savefig('hist.png')\n",
    "plt.title('All Mosquito Occurences')\n",
    "plt.show()\n",
    "\n",
    "comp_report_dataset = hist_dataset.where(hist_dataset >= 2000)\n",
    "comp_report_dataset = comp_report_dataset.where(comp_report_dataset <= 2014)\n",
    "comp_report_dataset.dropna(inplace=True)\n",
    "\n",
    "count_occurr = comp_report_dataset.value_counts()\n",
    "\n",
    "df_count_occurr = pd.DataFrame(comp_report_dataset.value_counts().reset_index())\n",
    "df_count_occurr.columns = ['year', 'occurrences']\n",
    "df_count_occurr['year'] = df_count_occurr['year'].astype(int)\n",
    "df_count_occurr = df_count_occurr.sort_values(by = ['year'], ascending = True)\n",
    "#series_count_occurr = series_count_occurr.reset_index(drop=True)\n",
    "\n",
    "print(df_count_occurr)\n",
    "\n",
    "#print(comp_report_dataset)\n",
    "\n",
    "plt.hist(comp_report_dataset, bins=np.arange(comp_report_dataset.min(), comp_report_dataset.max()+1), align='left')\n",
    "plt.savefig('hist2.png')\n",
    "plt.title('Mosquito Occurences (2000-2014)')\n",
    "plt.show()"
   ]
  },
  {
   "cell_type": "code",
   "execution_count": 49,
   "metadata": {},
   "outputs": [
    {
     "name": "stdout",
     "output_type": "stream",
     "text": [
      "    year  occurrences\n",
      "14  2000           65\n",
      "13  2001           84\n",
      "12  2002           84\n",
      "11  2003           84\n",
      "10  2004           88\n",
      "9   2005           95\n",
      "8   2006           98\n",
      "7   2007           98\n",
      "4   2008          101\n",
      "2   2009          103\n",
      "0   2010          105\n",
      "1   2011          103\n",
      "5   2012          100\n",
      "3   2013          102\n",
      "6   2014           98\n"
     ]
    },
    {
     "data": {
      "image/png": "[encoded data removed]",
      "text/plain": [
       "<Figure size 432x288 with 1 Axes>"
      ]
     },
     "metadata": {
      "needs_background": "light"
     },
     "output_type": "display_data"
    }
   ],
   "source": [
    "report_dataset = pd.read_csv('C:\\\\Users\\\\amaci\\\\Desktop\\\\FEI\\Mestrado\\\\PME406\\\\Trabalho Final\\Datasets\\\\the-fight-against-malaria\\\\reported_deaths.csv', encoding='latin1', sep=',')\n",
    "\n",
    "report_dataset = report_dataset['YEAR (DISPLAY)']\n",
    "count_report = report_dataset.value_counts()\n",
    "\n",
    "df_count_report = pd.DataFrame(report_dataset.value_counts().reset_index())\n",
    "df_count_report.columns = ['year', 'occurrences']\n",
    "df_count_report['year'] = df_count_report['year'].astype(int)\n",
    "df_count_report = df_count_report.sort_values(by = ['year'], ascending = True)\n",
    "#series_count_occurr = series_count_occurr.reset_index(drop=True)\n",
    "\n",
    "print(df_count_report)\n",
    "\n",
    "plt.hist(report_dataset, bins=np.arange(report_dataset.min(), report_dataset.max()+1), align='left')\n",
    "plt.savefig('hist3.png')\n",
    "plt.title('Reported Deaths (2000-2014)')\n",
    "plt.show()"
   ]
  },
  {
   "cell_type": "code",
   "execution_count": 62,
   "metadata": {},
   "outputs": [
    {
     "name": "stdout",
     "output_type": "stream",
     "text": [
      "\n",
      " Pearson\n",
      "0.6955552468464581\n",
      "\n",
      " Kendall\n",
      "0.9660917830792959\n",
      "\n",
      " Spearman\n",
      "0.9919317372826475\n"
     ]
    }
   ],
   "source": [
    "correlation_p = df_count_occurr['occurrences'].corr(df_count_report['occurrences'], method=\"pearson\")\n",
    "print('\\n Pearson')\n",
    "print(correlation_p)\n",
    "\n",
    "correlation_k = df_count_occurr['occurrences'].corr(df_count_report['occurrences'], method=\"kendall\")\n",
    "print('\\n Kendall')\n",
    "print(correlation_k)\n",
    "\n",
    "correlation_k = df_count_occurr['occurrences'].corr(df_count_report['occurrences'], method=\"spearman\")\n",
    "print('\\n Spearman')\n",
    "print(correlation_k)"
   ]
  },
  {
   "cell_type": "code",
   "execution_count": null,
   "metadata": {},
   "outputs": [],
   "source": []
  }
 ],
 "metadata": {
  "kernelspec": {
   "display_name": "Python 3",
   "language": "python",
   "name": "python3"
  },
  "language_info": {
   "codemirror_mode": {
    "name": "ipython",
    "version": 3
   },
   "file_extension": ".py",
   "mimetype": "text/x-python",
   "name": "python",
   "nbconvert_exporter": "python",
   "pygments_lexer": "ipython3",
   "version": "3.7.1"
  }
 },
 "nbformat": 4,
 "nbformat_minor": 2
}
